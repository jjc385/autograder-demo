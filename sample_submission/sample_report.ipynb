{
 "cells": [
  
   "cell_type": "markdown",
   "metadata": {},
   "source": [
    "## Dummy report notebook\n",
    "\n",
    "This is a dummy report.  For actual student submissions, the existence of the notebook and a pdf version is tested by the autograder (so students will be notified if it's misnamed or otherwise absent), and the report itself will be graded manually.\n",
    "\n",
    "Usually the report required students to apply code they'd written in a module to a particular physics problem."
   ]
  },
  {
   "cell_type": "code",
   "execution_count": null,
   "metadata": {},
   "outputs": [],
   "source": []
  }
 ],
 "metadata": {
  "kernelspec": {
   "display_name": "Python 3",
   "language": "python",
   "name": "python3"
  },
  "language_info": {
   "codemirror_mode": {
    "name": "ipython",
    "version": 3
   },
   "file_extension": ".py",
   "mimetype": "text/x-python",
   "name": "python",
   "nbconvert_exporter": "python",
   "pygments_lexer": "ipython3",
   "version": "3.6.4"
  }
 },
 "nbformat": 4,
 "nbformat_minor": 2
}
